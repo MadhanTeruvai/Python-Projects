{
  "nbformat": 4,
  "nbformat_minor": 0,
  "metadata": {
    "colab": {
      "provenance": [],
      "authorship_tag": "ABX9TyOOgz0P5J43Hmf2tEBXaPJ3",
      "include_colab_link": true
    },
    "kernelspec": {
      "name": "python3",
      "display_name": "Python 3"
    },
    "language_info": {
      "name": "python"
    }
  },
  "cells": [
    {
      "cell_type": "markdown",
      "metadata": {
        "id": "view-in-github",
        "colab_type": "text"
      },
      "source": [
        "<a href=\"https://colab.research.google.com/github/MadhanTeruvai/Python-Projects/blob/main/Custom_Multiplication_Tables.ipynb\" target=\"_parent\"><img src=\"https://colab.research.google.com/assets/colab-badge.svg\" alt=\"Open In Colab\"/></a>"
      ]
    },
    {
      "cell_type": "markdown",
      "source": [
        "Multiplication table for table below 1000"
      ],
      "metadata": {
        "id": "y1uV_7XgxMmJ"
      }
    },
    {
      "cell_type": "code",
      "execution_count": 10,
      "metadata": {
        "colab": {
          "base_uri": "https://localhost:8080/"
        },
        "id": "0IF22efmvGAr",
        "outputId": "f838e957-4b5a-4d58-c0d1-223b90f669e4"
      },
      "outputs": [
        {
          "output_type": "stream",
          "name": "stdout",
          "text": [
            "enter the value for Multiplication table: 366\n",
            "366x1=366\n",
            "366x2=732\n",
            "366x3=1098\n",
            "366x4=1464\n",
            "366x5=1830\n",
            "366x6=2196\n",
            "366x7=2562\n",
            "366x8=2928\n",
            "366x9=3294\n",
            "366x10=3660\n"
          ]
        }
      ],
      "source": [
        "# Multiplication table\n",
        "number=int(input(\"enter the value for Multiplication table: \"))\n",
        "for i in range(1,11):\n",
        "    j=i*number\n",
        "    print(f\"{number}x{i}={j}\")"
      ]
    },
    {
      "cell_type": "markdown",
      "source": [
        "Multiplication Table for table above 1000"
      ],
      "metadata": {
        "id": "XiQDM8xdxWEB"
      }
    },
    {
      "cell_type": "code",
      "source": [
        "# Multiplication table\n",
        "number=int(input(\"enter the value for Multiplication table: \"))\n",
        "for i in range(1,11):\n",
        "    j=i*number\n",
        "    print(f\"{number}x{i}={j}\")"
      ],
      "metadata": {
        "colab": {
          "base_uri": "https://localhost:8080/"
        },
        "id": "KuZBzxTmxL9I",
        "outputId": "a217e334-3cc9-4c50-e856-be67bde03b72"
      },
      "execution_count": 13,
      "outputs": [
        {
          "output_type": "stream",
          "name": "stdout",
          "text": [
            "enter the value for Multiplication table: 1653\n",
            "1653x1=16590\n",
            "1653x2=1653\n",
            "1653x3=3306\n",
            "1653x4=4959\n",
            "1653x5=6612\n",
            "1653x6=8265\n",
            "1653x7=9918\n",
            "1653x8=11571\n",
            "1653x9=13224\n",
            "1653x10=14877\n"
          ]
        }
      ]
    },
    {
      "cell_type": "markdown",
      "source": [
        "Multiplication Table for float values"
      ],
      "metadata": {
        "id": "TekRfWwJyjAg"
      }
    },
    {
      "cell_type": "code",
      "source": [
        "# Multiplication table to float value\n",
        "number=float(input(\"enter the float value for Multiplication table: \"))\n",
        "for i in range(1,11):\n",
        "    j = i*number\n",
        "    print(f\"{number}x{i}={j}\")"
      ],
      "metadata": {
        "colab": {
          "base_uri": "https://localhost:8080/"
        },
        "id": "RNxybvJcyuQg",
        "outputId": "0b341753-b7e6-496d-8af7-e7633bcd92ae"
      },
      "execution_count": 14,
      "outputs": [
        {
          "output_type": "stream",
          "name": "stdout",
          "text": [
            "enter the float value for Multiplication table: 32.9\n",
            "32.9x1=32.9\n",
            "32.9x2=65.8\n",
            "32.9x3=98.69999999999999\n",
            "32.9x4=131.6\n",
            "32.9x5=164.5\n",
            "32.9x6=197.39999999999998\n",
            "32.9x7=230.29999999999998\n",
            "32.9x8=263.2\n",
            "32.9x9=296.09999999999997\n",
            "32.9x10=329.0\n"
          ]
        }
      ]
    }
  ]
}